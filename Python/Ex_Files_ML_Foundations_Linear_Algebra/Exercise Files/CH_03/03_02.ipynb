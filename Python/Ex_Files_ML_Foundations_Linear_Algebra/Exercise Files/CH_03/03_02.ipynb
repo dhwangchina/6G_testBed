{
 "cells": [
  {
   "cell_type": "markdown",
   "id": "dd9aabf3",
   "metadata": {},
   "source": [
    "## Scalar and vector projection"
   ]
  },
  {
   "cell_type": "code",
   "execution_count": 21,
   "id": "7de515a4",
   "metadata": {},
   "outputs": [],
   "source": [
    "import numpy as np\n",
    "from numpy import linalg as lng"
   ]
  },
  {
   "cell_type": "code",
   "execution_count": 15,
   "id": "78ceb1e7",
   "metadata": {},
   "outputs": [],
   "source": [
    "a = np.array([10,20,30,40,50])\n",
    "b = np.array([60,70,80,90,100])"
   ]
  },
  {
   "cell_type": "code",
   "execution_count": 16,
   "id": "37e55e33",
   "metadata": {},
   "outputs": [],
   "source": [
    "len_a=lng.norm(a)"
   ]
  },
  {
   "cell_type": "code",
   "execution_count": 23,
   "id": "60aeb59b",
   "metadata": {},
   "outputs": [
    {
     "name": "stdout",
     "output_type": "stream",
     "text": [
      "[23.63636364 27.57575758 31.51515152 35.45454545 39.39393939]\n"
     ]
    }
   ],
   "source": [
    "vector_projection=(np.dot(a,b)/np.dot(b,b))*b\n",
    "print(vector_projection)"
   ]
  }
 ],
 "metadata": {
  "kernelspec": {
   "display_name": "Python 3",
   "language": "python",
   "name": "python3"
  },
  "language_info": {
   "codemirror_mode": {
    "name": "ipython",
    "version": 3
   },
   "file_extension": ".py",
   "mimetype": "text/x-python",
   "name": "python",
   "nbconvert_exporter": "python",
   "pygments_lexer": "ipython3",
   "version": "3.8.8"
  }
 },
 "nbformat": 4,
 "nbformat_minor": 5
}
